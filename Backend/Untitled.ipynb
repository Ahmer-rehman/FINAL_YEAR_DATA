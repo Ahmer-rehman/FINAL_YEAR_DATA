{
 "cells": [
  {
   "cell_type": "code",
   "execution_count": 2,
   "id": "9d1e94fc",
   "metadata": {},
   "outputs": [
    {
     "ename": "NameError",
     "evalue": "name 'recommend_music' is not defined",
     "output_type": "error",
     "traceback": [
      "\u001b[1;31m---------------------------------------------------------------------------\u001b[0m",
      "\u001b[1;31mNameError\u001b[0m                                 Traceback (most recent call last)",
      "Cell \u001b[1;32mIn[2], line 66\u001b[0m\n\u001b[0;32m     63\u001b[0m     \u001b[38;5;28mprint\u001b[39m(\u001b[38;5;124m\"\u001b[39m\u001b[38;5;124mMood:\u001b[39m\u001b[38;5;124m\"\u001b[39m, mood)\n\u001b[0;32m     64\u001b[0m     \u001b[38;5;28mprint\u001b[39m(\u001b[38;5;124m\"\u001b[39m\u001b[38;5;124mMusic Recommendations:\u001b[39m\u001b[38;5;124m\"\u001b[39m, music_recommendations)\n\u001b[1;32m---> 66\u001b[0m recommend_music(\u001b[38;5;241m1\u001b[39m)\n",
      "\u001b[1;31mNameError\u001b[0m: name 'recommend_music' is not defined"
     ]
    }
   ],
   "source": [
    "import os\n",
    "import random\n",
    "import torch\n",
    "import torchvision.transforms as transforms\n",
    "from torchvision import models\n",
    "from PIL import Image\n",
    "\n",
    "def load_model(model_path=None):\n",
    "    model = models.resnet50(pretrained=True)\n",
    "    num_mood_classes = 5\n",
    "    model.fc = torch.nn.Linear(model.fc.in_features, num_mood_classes)\n",
    "    if model_path:\n",
    "        model.load_state_dict(torch.load(model_path))\n",
    "    model.eval()\n",
    "    if torch.cuda.is_available():\n",
    "        model.to('cuda')\n",
    "    return model\n",
    "\n",
    "# Image preprocessing function\n",
    "def preprocess_image(image_path):\n",
    "    try:\n",
    "        input_image = Image.open(image_path)\n",
    "    except IOError:\n",
    "        return None\n",
    "    preprocess = transforms.Compose([\n",
    "        transforms.Resize(256),\n",
    "        transforms.CenterCrop(224),\n",
    "        transforms.ToTensor(),\n",
    "        transforms.Normalize(mean=[0.485, 0.456, 0.406], std=[0.229, 0.224, 0.225]),\n",
    "    ])\n",
    "    input_tensor = preprocess(input_image)\n",
    "    return input_tensor.unsqueeze(0)\n",
    "\n",
    "# Mood prediction function\n",
    "def predict_mood(image_path, model):\n",
    "    input_batch = preprocess_image(image_path)\n",
    "    if input_batch is None:\n",
    "        return None\n",
    "    if torch.cuda.is_available():\n",
    "        input_batch = input_batch.to('cuda')\n",
    "    with torch.no_grad():\n",
    "        output = model(input_batch)\n",
    "    probabilities = torch.nn.functional.softmax(output[0], dim=0)\n",
    "    return torch.argmax(probabilities).item()\n",
    "\n",
    "mood_to_folder = {\n",
    "    0: \"happy\",\n",
    "    1: \"sad\",\n",
    "    2: \"energetic\",\n",
    "    3: \"relaxed\",\n",
    "    4: \"angry\"\n",
    "}\n",
    "\n",
    "\n",
    "\n",
    "def main(image_path, model_path=None):\n",
    "    model = load_model(model_path)\n",
    "    mood = predict_mood(image_path, model)\n",
    "    if mood is None:\n",
    "        print(\"Error processing the image.\")\n",
    "        return\n",
    "    music_recommendations = recommend_music(mood)\n",
    "    print(\"Mood:\", mood)\n",
    "    print(\"Music Recommendations:\", music_recommendations)\n",
    "\n",
    "recommend_music(1)"
   ]
  },
  {
   "cell_type": "code",
   "execution_count": 9,
   "id": "1970b7cf",
   "metadata": {},
   "outputs": [
    {
     "name": "stdout",
     "output_type": "stream",
     "text": [
      "['background-music-for-short-funny-video-vlog-podcast-advertising-177173 (1).wav', 'joyful-snowman_60sec-176773.wav', 'background-music-for-short-funny-video-vlog-podcast-advertising-177173 (1) (1).wav']\n"
     ]
    }
   ],
   "source": [
    "import os\n",
    "import random\n",
    "\n",
    "def recommend_music(mood):\n",
    "    mood_folder = mood_to_folder.get(mood)\n",
    "    if not mood_folder:\n",
    "        print(f\"No folder found for mood: {mood}\")\n",
    "        return []\n",
    "\n",
    "    song_folder_path = os.path.join('C:/Users/arskk/PycharmProjects/pythonProject/songs', mood_folder)\n",
    "    try:\n",
    "        songs = [song for song in os.listdir(song_folder_path) if song.endswith(\".wav\")]\n",
    "        if not songs:\n",
    "            print(f\"No .WAV files found in {song_folder_path}\")\n",
    "        return random.sample(songs, min(3, len(songs)))\n",
    "    except FileNotFoundError:\n",
    "        print(f\"Directory not found: {song_folder_path}\")\n",
    "        return []\n",
    "\n",
    "# Example usage\n",
    "mood_to_folder = {\n",
    "    0: \"happy\",\n",
    "    1: \"sad\",\n",
    "    2: \"energetic\",\n",
    "    3: \"relaxed\",\n",
    "    4: \"angry\"\n",
    "}\n",
    "print(recommend_music(1))\n"
   ]
  },
  {
   "cell_type": "code",
   "execution_count": 11,
   "id": "d6e1e581",
   "metadata": {},
   "outputs": [
    {
     "name": "stdout",
     "output_type": "stream",
     "text": [
      "Requirement already satisfied: playsound in c:\\users\\arskk\\anaconda3\\lib\\site-packages (1.3.0)\n"
     ]
    }
   ],
   "source": [
    "!pip install playsound\n"
   ]
  },
  {
   "cell_type": "code",
   "execution_count": 3,
   "id": "3df2ee2b",
   "metadata": {},
   "outputs": [
    {
     "name": "stdout",
     "output_type": "stream",
     "text": [
      "Playing: background-music-for-short-funny-video-vlog-podcast-advertising-177173 (2) - Copy.wav\n",
      "Playing: joyful-snowman_60sec-176773 - Copy (8).wav\n",
      "Playing: joyful-snowman_60sec-176773 - Copy (10).wav\n"
     ]
    }
   ],
   "source": [
    "from playsound import playsound\n",
    "import os\n",
    "import random\n",
    "\n",
    "def recommend_and_play_music(mood):\n",
    "    mood_folder = mood_to_folder.get(mood)\n",
    "    if not mood_folder:\n",
    "        print(f\"No folder found for mood: {mood}\")\n",
    "        return\n",
    "\n",
    "    song_folder_path = os.path.join('C:/Users/arskk/PycharmProjects/pythonProject/songs', mood_folder)\n",
    "    try:\n",
    "        songs = [song for song in os.listdir(song_folder_path) if song.endswith(\".wav\")]\n",
    "        if not songs:\n",
    "            print(f\"No .WAV files found in {song_folder_path}\")\n",
    "            return\n",
    "\n",
    "        selected_songs = random.sample(songs, min(3, len(songs)))\n",
    "        for song in selected_songs:\n",
    "            song_path = os.path.join(song_folder_path, song)\n",
    "            print(f\"Playing: {song}\")\n",
    "            playsound(song_path)\n",
    "\n",
    "    except FileNotFoundError:\n",
    "        print(f\"Directory not found: {song_folder_path}\")\n",
    "\n",
    "# Example usage\n",
    "recommend_and_play_music(1)\n"
   ]
  },
  {
   "cell_type": "code",
   "execution_count": null,
   "id": "ce1f4315",
   "metadata": {},
   "outputs": [
    {
     "name": "stdout",
     "output_type": "stream",
     "text": [
      "Playing: background-music-for-short-funny-video-vlog-podcast-advertising-177173 (1) (1).wav\n"
     ]
    }
   ],
   "source": [
    "import pygame\n",
    "import os\n",
    "import random\n",
    "\n",
    "def recommend_and_play_music_pygame(mood):\n",
    "    mood_folder = mood_to_folder.get(mood)\n",
    "    if not mood_folder:\n",
    "        print(f\"No folder found for mood: {mood}\")\n",
    "        return\n",
    "\n",
    "    song_folder_path = os.path.join('C:/Users/arskk/PycharmProjects/pythonProject/songs', mood_folder)\n",
    "    try:\n",
    "        songs = [song for song in os.listdir(song_folder_path) if song.endswith(\".wav\")]\n",
    "        if not songs:\n",
    "            print(f\"No .WAV files found in {song_folder_path}\")\n",
    "            return\n",
    "\n",
    "        selected_songs = random.sample(songs, min(3, len(songs)))\n",
    "        pygame.mixer.init()\n",
    "        for song in selected_songs:\n",
    "            song_path = os.path.join(song_folder_path, song)\n",
    "            print(f\"Playing: {song}\")\n",
    "            pygame.mixer.music.load(song_path)\n",
    "            pygame.mixer.music.play()\n",
    "           \n",
    "            while pygame.mixer.music.get_busy():  # Wait for the music to finish\n",
    "                pygame.time.Clock().tick(5)\n",
    "\n",
    "    except FileNotFoundError:\n",
    "        print(f\"Directory not found: {song_folder_path}\")\n",
    "\n",
    "# Example usage with pygame\n",
    "recommend_and_play_music_pygame(1)\n"
   ]
  },
  {
   "cell_type": "code",
   "execution_count": null,
   "id": "178a96b5",
   "metadata": {},
   "outputs": [],
   "source": [
    "!pip install pygame"
   ]
  },
  {
   "cell_type": "code",
   "execution_count": null,
   "id": "78fc9e27",
   "metadata": {},
   "outputs": [],
   "source": []
  }
 ],
 "metadata": {
  "kernelspec": {
   "display_name": "Python 3 (ipykernel)",
   "language": "python",
   "name": "python3"
  },
  "language_info": {
   "codemirror_mode": {
    "name": "ipython",
    "version": 3
   },
   "file_extension": ".py",
   "mimetype": "text/x-python",
   "name": "python",
   "nbconvert_exporter": "python",
   "pygments_lexer": "ipython3",
   "version": "3.11.5"
  }
 },
 "nbformat": 4,
 "nbformat_minor": 5
}
